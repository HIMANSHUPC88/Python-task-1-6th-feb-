{
 "cells": [
  {
   "cell_type": "markdown",
   "id": "c186caba-edca-4329-b4f7-a0da698f3569",
   "metadata": {},
   "source": [
    "Q1. Create a function which will take a list as an argument and return the product of all the numbers \n",
    "after creating a flat list.\n",
    "\n",
    "Use the below-given list as an argument for your function.\n",
    "\n",
    "\n",
    "list1 = [1,2,3,4, [44,55,66, True], False, (34,56,78,89,34), {1,2,3,3,2,1}, {1:34, \"key2\": [55, 67, 78, 89], 4: (45, \n",
    "22, 61, 34)}, [56, 'data science'], 'Machine Learning']\n",
    "\n",
    "\n",
    "Note: you must extract numeric keys and values of the dictionary also."
   ]
  },
  {
   "cell_type": "code",
   "execution_count": 21,
   "id": "f86e057a-096c-4d8b-ab44-a8e2f8d1383b",
   "metadata": {},
   "outputs": [
    {
     "name": "stdout",
     "output_type": "stream",
     "text": [
      " Product of list mylist : 1033677959746771369708460310528000\n"
     ]
    }
   ],
   "source": [
    "def flatten_list(lst):\n",
    "    flattened_list =[]\n",
    "    for item in lst:\n",
    "        if type(item) ==list:\n",
    "            flattened_list.extend(flatten_list(item))\n",
    "        elif type(item)==tuple:\n",
    "            flattened_list.extend(flatten_list(list(item)))\n",
    "        elif type(item)==set:\n",
    "            flattened_list.extend(flatten_list(list(item)))\n",
    "        elif type(item)==dict:\n",
    "            flattened_list.extend(flatten_list(list(item.values())))\n",
    "        elif type(item)==int and float and not type(item)==bool:\n",
    "            flattened_list.append(item)\n",
    "    return flattened_list\n",
    "list1 = [1,2,3,4, [44,55,66, True], False, (34,56,78,89,34), {1,2,3,3,2,1}, {1:34, \"key2\": [55, 67, 78, 89], 4: (45, 22, 61, 34)}, [56, 'data science'], 'Machine Learning']\n",
    "flattened_list = flatten_list(list1)\n",
    "def multiply_list (mylist):\n",
    "        \t\n",
    "    result = 1 \n",
    "    for x in mylist:\n",
    "        result = result * x\n",
    "    return result\n",
    "list1 = flattened_list\n",
    "print(\" Product of list mylist :\",multiply_list(list1))\n",
    "# Answer 1  completed"
   ]
  },
  {
   "cell_type": "markdown",
   "id": "925c6195-0516-4924-bcc9-22edd8d2920c",
   "metadata": {},
   "source": [
    "Q2.Write a python program for encrypting a message sent to you by your friend. The logic of encryption \n",
    "should be such that, for a the output should be z. For b, the output should be y. For c, the output should \n",
    "be x respectively. Also, the whitespace should be replaced with a dollar sign. Keep the punctuation \n",
    "marks unchanged.\n",
    "\n",
    "\n",
    "Input Sentence: I want to become a Data Scientist.\n",
    "\n",
    "\n",
    "Encrypt the above input sentence using the program you just created.\n",
    "\n",
    "\n",
    "Note: Convert the given input sentence into lowercase before encrypting. The final output should be \n",
    "lowercase."
   ]
  },
  {
   "cell_type": "code",
   "execution_count": 22,
   "id": "7f7933aa-8b69-45ab-a42b-80411d5b8b68",
   "metadata": {},
   "outputs": [
    {
     "name": "stdin",
     "output_type": "stream",
     "text": [
      "Enter the message to encrypted I WANT TO BECAME A DATA SCIENTIEST\n"
     ]
    },
    {
     "name": "stdout",
     "output_type": "stream",
     "text": [
      "Encrypted message: r$wznt$to$yvxznv$z$wztz$sxrvntrvst\n"
     ]
    }
   ],
   "source": [
    "encryption_map = { 'a':'z' ,'b':'y','c':'x' ,'d':'w' ,'e':'v' ,'f':'u' ,'g':'t' ,'h':'s' ,'i':'r' ,'j':'q' ,'k':'p' ,'l':'o' ,'m':'n' , ' ' : '$' }\n",
    "\n",
    "message = input(\"Enter the message to encrypted\")\n",
    "message = message.lower()\n",
    "encrypted_message = ''\n",
    "for char in message:\n",
    "    if char in encryption_map:\n",
    "        encrypted_message+= encryption_map[char]\n",
    "    else :\n",
    "        encrypted_message += char\n",
    "print(\"Encrypted message:\",encrypted_message)\n",
    "\n",
    "# anSWER 2 nD COMPLETED"
   ]
  },
  {
   "cell_type": "code",
   "execution_count": null,
   "id": "719bc677-3f0a-490a-b2be-6d47b553c7bb",
   "metadata": {},
   "outputs": [],
   "source": []
  }
 ],
 "metadata": {
  "kernelspec": {
   "display_name": "Python 3 (ipykernel)",
   "language": "python",
   "name": "python3"
  },
  "language_info": {
   "codemirror_mode": {
    "name": "ipython",
    "version": 3
   },
   "file_extension": ".py",
   "mimetype": "text/x-python",
   "name": "python",
   "nbconvert_exporter": "python",
   "pygments_lexer": "ipython3",
   "version": "3.10.8"
  }
 },
 "nbformat": 4,
 "nbformat_minor": 5
}
